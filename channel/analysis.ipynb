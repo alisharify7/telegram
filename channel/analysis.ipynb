{
 "cells": [
  {
   "cell_type": "code",
   "execution_count": null,
   "id": "9ae2c857",
   "metadata": {},
   "outputs": [],
   "source": [
    "import matplotlib.pyplot as plt\n",
    "from Module import Time as tm, File as fl\n",
    "from Method import *"
   ]
  },
  {
   "cell_type": "code",
   "execution_count": null,
   "id": "ef8a23ad",
   "metadata": {},
   "outputs": [],
   "source": [
    "await get_tests()"
   ]
  },
  {
   "cell_type": "code",
   "execution_count": null,
   "id": "1f8a4661",
   "metadata": {},
   "outputs": [],
   "source": [
    "fl.show()"
   ]
  },
  {
   "cell_type": "code",
   "execution_count": null,
   "id": "2a629324",
   "metadata": {},
   "outputs": [],
   "source": [
    "username = \"MohammadZarchi\"\n",
    "channel = fl.get(username)"
   ]
  },
  {
   "cell_type": "code",
   "execution_count": null,
   "id": "b8b599f6",
   "metadata": {},
   "outputs": [],
   "source": [
    "channel = await get(username, 280000)"
   ]
  },
  {
   "cell_type": "code",
   "execution_count": null,
   "id": "dcb6d0c5",
   "metadata": {},
   "outputs": [],
   "source": [
    "match_case = 0  # Important param\n",
    "data, dics = cdata(\n",
    "    channel, match_case,\n",
    "    min_id=0, max_id=1000,\n",
    "    min_view=0, max_view=0,\n",
    "    min_forward=0, max_forward=0,\n",
    "    min_mention=0, max_mention=0,\n",
    "    start_time='15:00:00', stop_time='21:00:00',\n",
    "    start_datetime=tm.timestamp('2010-01-18 00:00', '%Y-%m-%d %H:%M'),\n",
    "    stop_datetime=tm.timestamp('2010-01-18 00:00', '%Y-%m-%d %H:%M')\n",
    ")\n"
   ]
  },
  {
   "cell_type": "code",
   "execution_count": null,
   "id": "4179e36f",
   "metadata": {},
   "outputs": [],
   "source": [
    "total_post = data[-1]['id']\n",
    "alive_post = len(data)\n",
    "deleted_post = total_post - alive_post\n",
    "print(f'Total Post: {format(total_post)}')\n",
    "print(f'Alive Post: {format(alive_post)}')\n",
    "print(f'Delete Post: {format(deleted_post)}')\n",
    "plt.pie([alive_post, deleted_post],\n",
    "        labels=['Alive Post', 'Deleted Post'],\n",
    "        colors=['green', 'red'], autopct='%1.1f%%');\n"
   ]
  },
  {
   "cell_type": "code",
   "execution_count": null,
   "id": "27eced14",
   "metadata": {},
   "outputs": [],
   "source": [
    "plt.plot(dics['cont'], dics['view'], label='View', linewidth=2)\n",
    "plt.title(\n",
    "    f'\\nChannel posts View chart of @{username}\\n', fontname=\"DejaVu Sans\", size=32)\n",
    "plt.xlabel(\"\\nNumber(id) of posts\")\n",
    "plt.ylabel(\"Count of View\")\n",
    "plt.legend()\n",
    "plt.grid(color='gray', linestyle='--', axis='both', linewidth=0.8)\n",
    "fig = plt.gcf()\n",
    "fig.set_size_inches(18.5, 10.5)\n"
   ]
  },
  {
   "cell_type": "code",
   "execution_count": null,
   "id": "726e58ec",
   "metadata": {},
   "outputs": [],
   "source": [
    "lv_data = dict(sorted(dics['view_dict'].items(),\n",
    "               key=lambda item: item[1], reverse=True))\n",
    "for idx, key in enumerate(lv_data):\n",
    "    print('{}: ({:,} views)\\nhttps://t.me/{}/{}\\n'.format(idx +\n",
    "          1, lv_data[key], username, key))\n",
    "    if idx > 3:\n",
    "        break\n"
   ]
  },
  {
   "cell_type": "code",
   "execution_count": null,
   "id": "dad6b2d7",
   "metadata": {},
   "outputs": [],
   "source": [
    "plt.plot(dics['cont'], dics['forw'], 'r', label='Forward', linewidth=2)\n",
    "plt.title(\n",
    "    f'\\nChannel posts Forward chart of @{username}\\n', fontname=\"DejaVu Sans\", size=32)\n",
    "plt.xlabel(\"\\nNumber(id) of posts\")\n",
    "plt.ylabel(\"Count of Forward\")\n",
    "plt.legend()\n",
    "plt.grid(color='gray', linestyle='--', axis='both', linewidth=0.5)\n",
    "fig = plt.gcf()\n",
    "fig.set_size_inches(18.5, 10.5)\n"
   ]
  },
  {
   "cell_type": "code",
   "execution_count": null,
   "id": "04800c16",
   "metadata": {},
   "outputs": [],
   "source": [
    "lf_data = dict(sorted(dics['forw_dict'].items(),\n",
    "               key=lambda item: item[1], reverse=True))\n",
    "for idx, key in enumerate(lf_data):\n",
    "    print('{}: ({:,} forw)\\nhttps://t.me/{}/{}\\n'.format(idx +\n",
    "          1, lf_data[key], username, key))\n",
    "    if idx > 3:\n",
    "        break\n"
   ]
  },
  {
   "cell_type": "code",
   "execution_count": null,
   "id": "1a0466fe",
   "metadata": {},
   "outputs": [],
   "source": [
    "plt.plot(dics['cont'], dics['repl'], 'g', label='Forward', linewidth=2)\n",
    "plt.title(\n",
    "    f'\\nChannel posts Mentions chart of @{username}\\n', fontname=\"DejaVu Sans\", size=32)\n",
    "plt.xlabel(\"\\nNumber(id) of posts\\nDevelopment by @ZarchiMohammad\")\n",
    "plt.ylabel(\"Count of Forward\")\n",
    "plt.legend()\n",
    "plt.grid(color='gray', linestyle='--', axis='both', linewidth=0.5)\n",
    "fig = plt.gcf()\n",
    "fig.set_size_inches(18.5, 10.5)\n"
   ]
  },
  {
   "cell_type": "code",
   "execution_count": null,
   "id": "14c82242",
   "metadata": {},
   "outputs": [],
   "source": [
    "lf_data = dict(sorted(dics['repl_dict'].items(),\n",
    "               key=lambda item: item[1], reverse=True))\n",
    "for idx, key in enumerate(lf_data):\n",
    "    print('{}: ({:,} reply)\\nhttps://t.me/{}/{}\\n'.format(idx +\n",
    "          1, lf_data[key], username, key))\n",
    "    if idx > 5:\n",
    "        break\n"
   ]
  },
  {
   "cell_type": "code",
   "execution_count": null,
   "id": "1057d535",
   "metadata": {},
   "outputs": [],
   "source": [
    "day_dict, rte_dict, viw_dict = drv(data)"
   ]
  },
  {
   "cell_type": "code",
   "execution_count": null,
   "id": "2b0582a6",
   "metadata": {},
   "outputs": [],
   "source": [
    "# Density of posts per hour of the day\n",
    "xtick_list = [\n",
    "    '|', '|', '|', '1', '|', '|', '|', '2', '|', '|', '|', '3', '|', '|', '|', '4', '|', '|', '|', '5', '|', '|', '|', '6',\n",
    "    '|', '|', '|', '7', '|', '|', '|', '8', '|', '|', '|', '9', '|', '|', '|', '10', '|', '|', '|', '11', '|', '|', '|', '12',\n",
    "    '|', '|', '|', '13', '|', '|', '|', '14', '|', '|', '|', '15', '|', '|', '|', '16', '|', '|', '|', '17', '|', '|', '|', '18',\n",
    "    '|', '|', '|', '19', '|', '|', '|', '20', '|', '|', '|', '21', '|', '|', '|', '22', '|', '|', '|', '23', '|', '|', '|', '24'\n",
    "]\n",
    "n = list(day_dict.values())\n",
    "\n",
    "k = list(range(0, 96))\n",
    "plt.figure(figsize=(25, 15))\n",
    "plt.bar(k, n, color='DarkOliveGreen')\n",
    "plt.grid(color='gray', linestyle='--', axis='y', linewidth=0.8)\n",
    "plt.title(\n",
    "    f'\\nChannel posts count/hours chart of @{username}\\n', fontname=\"DejaVu Sans\", size=32)\n",
    "plt.xlabel('Hours of the days')\n",
    "plt.ylabel('Count of channel post')\n",
    "plt.xticks(k, xtick_list);\n"
   ]
  },
  {
   "cell_type": "code",
   "execution_count": null,
   "id": "dcaeb1ab",
   "metadata": {},
   "outputs": [],
   "source": [
    "x1, y1, tod = scatter_handel(data)\n",
    "plt.figure(figsize=(15, 15))\n",
    "plt.scatter(x1['g1'], y1['g1'], color='#000000', s=100, marker=\".\")\n",
    "plt.scatter(x1['g2'], y1['g2'], color='#202020', s=100, marker=\".\")\n",
    "plt.scatter(x1['g3'], y1['g3'], color='#404040', s=100, marker=\".\")\n",
    "plt.scatter(tod[0], tod[1], color='#FF0000', s=100, marker=\".\")\n",
    "\n",
    "plt.title(f'\\nScatter points of @{username} Telegram channel\\n',\n",
    "          fontname=\"DejaVu Sans\", size=14)\n",
    "plt.xlabel(\"\\nNumber of year\\n\")\n",
    "plt.ylabel(\"\\nName of month\\n\")\n",
    "plt.grid(color='gray', linestyle='--', linewidth=0.7)\n",
    "x = ['', '2013', '2014', '2015', '2016', '2017', '2018',\n",
    "     '2019', '2020', '2021', '2022', '2023', '2024']\n",
    "y = ['', 'Jan', 'Feb', 'Mar', 'Apr', 'May', 'Jun',\n",
    "     'Jul', 'Aug', 'Sep', 'Oct', 'Nov', 'Dec']\n",
    "\n",
    "plt.xlim([0, 12])\n",
    "plt.ylim([0, 12])\n",
    "\n",
    "plt.xticks(range(len(x)), x)\n",
    "plt.yticks(range(len(y)), y)\n",
    "plt.tick_params(axis=\"y\", which=\"both\", labelleft=True, labelright=True)"
   ]
  },
  {
   "cell_type": "code",
   "execution_count": null,
   "id": "28e7e2bb",
   "metadata": {},
   "outputs": [],
   "source": [
    "# pdistance(distance,  5)"
   ]
  }
 ],
 "metadata": {
  "kernelspec": {
   "display_name": "base",
   "language": "python",
   "name": "python3"
  },
  "language_info": {
   "codemirror_mode": {
    "name": "ipython",
    "version": 3
   },
   "file_extension": ".py",
   "mimetype": "text/x-python",
   "name": "python",
   "nbconvert_exporter": "python",
   "pygments_lexer": "ipython3",
   "version": "3.10.6"
  }
 },
 "nbformat": 4,
 "nbformat_minor": 5
}
