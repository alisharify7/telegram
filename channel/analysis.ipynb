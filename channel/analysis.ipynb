{
 "cells": [
  {
   "attachments": {},
   "cell_type": "markdown",
   "id": "76163aa4",
   "metadata": {},
   "source": [
    "Cell code: <b>1</b>"
   ]
  },
  {
   "cell_type": "code",
   "execution_count": 1,
   "id": "9ae2c857",
   "metadata": {},
   "outputs": [],
   "source": [
    "import matplotlib.pyplot as plt\n",
    "from Module import Time as tm, File as fl, download as dwn\n",
    "from Method import *"
   ]
  },
  {
   "attachments": {},
   "cell_type": "markdown",
   "id": "280b9268",
   "metadata": {},
   "source": [
    "Cell code: <b>2</b>"
   ]
  },
  {
   "cell_type": "code",
   "execution_count": null,
   "id": "ef8a23ad",
   "metadata": {},
   "outputs": [],
   "source": [
    "await dwn.dwget()"
   ]
  },
  {
   "attachments": {},
   "cell_type": "markdown",
   "id": "b09e6f0f",
   "metadata": {},
   "source": [
    "Cell code: <b>3</b>"
   ]
  },
  {
   "cell_type": "code",
   "execution_count": null,
   "id": "1f8a4661",
   "metadata": {},
   "outputs": [],
   "source": [
    "fl.show()"
   ]
  },
  {
   "attachments": {},
   "cell_type": "markdown",
   "id": "1cf3ab32",
   "metadata": {},
   "source": [
    "Cell code: <b>4</b>"
   ]
  },
  {
   "cell_type": "code",
   "execution_count": 2,
   "id": "2a629324",
   "metadata": {},
   "outputs": [
    {
     "name": "stdout",
     "output_type": "stream",
     "text": [
      "            date      time    unixtime    id  view\n",
      "0     2022-02-25  17:57:24  1645799244     4   256\n",
      "1     2022-02-25  18:20:57  1645800657     5   212\n",
      "2     2022-02-25  18:24:10  1645800850     6   216\n",
      "3     2022-02-25  18:35:31  1645801531     7   186\n",
      "4     2022-02-25  18:35:47  1645801547     8   201\n",
      "4353  2023-06-14  00:06:01  1686688561  5342   210\n",
      "4354  2023-06-14  00:06:36  1686688596  5343   214\n",
      "4355  2023-06-19  01:27:57  1687125477  5344    95\n",
      "4356  2023-06-19  01:31:48  1687125708  5345    89\n",
      "4357  2023-06-19  01:44:27  1687126467  5346    83\n",
      "\n",
      "After this, run cell code 6\n"
     ]
    }
   ],
   "source": [
    "username = \"hachico80\"\n",
    "channel = fl.get(username)"
   ]
  },
  {
   "attachments": {},
   "cell_type": "markdown",
   "id": "96870032",
   "metadata": {},
   "source": [
    "Cell code: <b>5</b>"
   ]
  },
  {
   "cell_type": "code",
   "execution_count": null,
   "id": "b8b599f6",
   "metadata": {},
   "outputs": [],
   "source": [
    "channel = await get(username, 5000)"
   ]
  },
  {
   "attachments": {},
   "cell_type": "markdown",
   "id": "a7ea4bdd",
   "metadata": {},
   "source": [
    "Cell code: <b>6</b>"
   ]
  },
  {
   "cell_type": "code",
   "execution_count": 3,
   "id": "dcb6d0c5",
   "metadata": {},
   "outputs": [],
   "source": [
    "match_case = 0  # Important param\n",
    "data, dics = cdata(\n",
    "    channel, match_case,\n",
    "    admins=['s.s'],\n",
    "    min_id=271455, max_id=1000000000,\n",
    "    min_view=10000, max_view=1000000000000,\n",
    "    min_forward=0, max_forward=0,\n",
    "    min_mention=0, max_mention=0,\n",
    "    start_time='15:00:00', stop_time='21:00:00',\n",
    "    start_datetime=tm.timestamp('2010-01-18 00:00', '%Y-%m-%d %H:%M'),\n",
    "    stop_datetime=tm.timestamp('2010-01-18 00:00', '%Y-%m-%d %H:%M')\n",
    ")"
   ]
  },
  {
   "attachments": {},
   "cell_type": "markdown",
   "id": "234487d9",
   "metadata": {},
   "source": [
    "<b>Part A</b> (required cells: 1, 4, 6)<b><h3>Admins</h3></b><br>"
   ]
  },
  {
   "attachments": {},
   "cell_type": "markdown",
   "id": "c39e6834",
   "metadata": {},
   "source": [
    "Cell code: <b>7</b>"
   ]
  },
  {
   "cell_type": "code",
   "execution_count": 4,
   "id": "9e7f48fa",
   "metadata": {},
   "outputs": [
    {
     "name": "stdout",
     "output_type": "stream",
     "text": [
      "admin-id: 1     message-count: 1981     admin-name: هاچیکو\n",
      "admin-id: 2     message-count: 1        admin-name: Zahra\n",
      "admin-id: 3     message-count: 780      admin-name: مــینا\n",
      "admin-id: 4     message-count: 78       admin-name: زهــــرا\n",
      "admin-id: 5     message-count: 48       admin-name: MINA\n",
      "admin-id: 6     message-count: 253      admin-name: Mina Rajabi\n",
      "admin-id: 7     message-count: 171      admin-name: Zeinab Hadi\n",
      "admin-id: 8     message-count: 36       admin-name: ▪️zahra▪️\n",
      "admin-id: 9     message-count: 88       admin-name: ریحـٰانـه\n",
      "admin-id: 10    message-count: 229      admin-name: اَبَرنواَختَر\n",
      "admin-id: 11    message-count: 46       admin-name: سِیـّــده زِیـنـَب\n",
      "admin-id: 12    message-count: 2        admin-name: ریحـٰانـه عبدی\n",
      "admin-id: 13    message-count: 1        admin-name: مــینا پوریان\n",
      "admin-id: 14    message-count: 151      admin-name: Reyhaneh\n",
      "admin-id: 15    message-count: 12       admin-name: Mina\n",
      "admin-id: 16    message-count: 1        admin-name: شـَمـیـــــم\n"
     ]
    }
   ],
   "source": [
    "admins = admins_status(data)"
   ]
  },
  {
   "attachments": {},
   "cell_type": "markdown",
   "id": "8edbcaaf",
   "metadata": {},
   "source": [
    "Cell code: <b>8</b>"
   ]
  },
  {
   "attachments": {},
   "cell_type": "markdown",
   "id": "87b031f7",
   "metadata": {},
   "source": [
    "Cell code: <b></b>"
   ]
  },
  {
   "cell_type": "code",
   "execution_count": null,
   "id": "865552c9",
   "metadata": {},
   "outputs": [],
   "source": [
    "# Cell code:\n",
    "merge_list = [[8, 2, 4], [13, 3, 5], [6, 15], [12, 14, 9]]\n",
    "for ml in merge_list:\n",
    "    for i in range(1, len(ml)):\n",
    "        admins[ml[0]]['count'] += admins[ml[i]]['count']\n",
    "        admins.pop(ml[i])\n",
    "\n",
    "for a in admins.keys():\n",
    "    print(\"admin-id: {:<5s} message-count: {:<8s} admin-name: {}\".format(str(a), str(admins[a]['count']), admins[a]['author']))"
   ]
  },
  {
   "attachments": {},
   "cell_type": "markdown",
   "id": "e2440061",
   "metadata": {},
   "source": [
    "Cell code: <b></b>"
   ]
  },
  {
   "cell_type": "code",
   "execution_count": null,
   "id": "946529f2",
   "metadata": {},
   "outputs": [],
   "source": [
    "# Cell code:\n",
    "textprops = {\"fontsize\":14}\n",
    "plt.figure(figsize = (15,15))\n",
    "\n",
    "labels = []\n",
    "values = []\n",
    "for a in admins.keys():\n",
    "    labels.append(a)\n",
    "    values.append(admins[a]['count'])\n",
    "\n",
    "plt.pie(values, labels=labels, autopct='%1.1f%%', textprops =textprops);"
   ]
  },
  {
   "attachments": {},
   "cell_type": "markdown",
   "id": "e70f8e30",
   "metadata": {},
   "source": [
    "Cell code: <b></b>"
   ]
  },
  {
   "cell_type": "code",
   "execution_count": null,
   "id": "a27f018a",
   "metadata": {},
   "outputs": [],
   "source": [
    "# Cell code:\n",
    "import numpy as np\n",
    "\n",
    "sccatter_x = []\n",
    "sccatter_y = []\n",
    "\n",
    "for i in data:\n",
    "    times = i['time'].split(\":\")\n",
    "    sctrx = round(int(times[0]) + ((int(times[1]) * 100) / 60) * 0.01, 1)\n",
    "    sccatter_x.append(i['id'])\n",
    "    sccatter_y.append(sctrx)\n",
    "    \n",
    "plt.figure(figsize=(16, 12.5), dpi=80)\n",
    "plt.grid(color='gray', linestyle='--', linewidth=0.5)\n",
    "plt.xlim([0, len(channel)])\n",
    "plt.ylim([0, 25])\n",
    "\n",
    "yy = list(range(0, 25))\n",
    "plt.yticks(range(len(yy)), yy)\n",
    "plt.tick_params(axis='y', which='both', labelleft=True, labelright=True)\n",
    "plt.scatter(np.array(sccatter_x), np.array(sccatter_y));"
   ]
  },
  {
   "attachments": {},
   "cell_type": "markdown",
   "id": "770fec6e",
   "metadata": {},
   "source": [
    "Cell code: <b></b>"
   ]
  },
  {
   "cell_type": "code",
   "execution_count": null,
   "id": "4179e36f",
   "metadata": {},
   "outputs": [],
   "source": [
    "total_post = data[-1]['id']\n",
    "alive_post = len(data)\n",
    "deleted_post = total_post - alive_post\n",
    "print(f'Total Post: {format(total_post)}')\n",
    "print(f'Alive Post: {format(alive_post)}')\n",
    "print(f'Delete Post: {format(deleted_post)}')\n",
    "plt.pie([alive_post, deleted_post],\n",
    "        labels=['Alive Post', 'Deleted Post'],\n",
    "        colors=['green', 'red'], autopct='%1.1f%%');\n"
   ]
  },
  {
   "attachments": {},
   "cell_type": "markdown",
   "id": "8c649655",
   "metadata": {},
   "source": [
    "Cell code: <b></b>"
   ]
  },
  {
   "cell_type": "code",
   "execution_count": null,
   "id": "27eced14",
   "metadata": {},
   "outputs": [],
   "source": [
    "plt.plot(dics['cont'], dics['view'], label='View', linewidth=2)\n",
    "plt.title(\n",
    "    f'\\nChannel posts View chart of @{username}\\n', fontname=\"DejaVu Sans\", size=32)\n",
    "plt.xlabel(\"\\nNumber(id) of posts\")\n",
    "plt.ylabel(\"Count of View\")\n",
    "plt.legend()\n",
    "plt.grid(color='gray', linestyle='--', axis='both', linewidth=0.8)\n",
    "fig = plt.gcf()\n",
    "fig.set_size_inches(18.5, 10.5)\n"
   ]
  },
  {
   "attachments": {},
   "cell_type": "markdown",
   "id": "34fd5745",
   "metadata": {},
   "source": [
    "Cell code: <b></b>"
   ]
  },
  {
   "cell_type": "code",
   "execution_count": null,
   "id": "726e58ec",
   "metadata": {},
   "outputs": [],
   "source": [
    "lv_data = dict(sorted(dics['view_dict'].items(),\n",
    "               key=lambda item: item[1], reverse=True))\n",
    "for idx, key in enumerate(lv_data):\n",
    "    print('{}: ({:,} views)\\nhttps://t.me/{}/{}\\n'.format(idx +\n",
    "          1, lv_data[key], username, key))\n",
    "    if idx > 3:\n",
    "        break\n"
   ]
  },
  {
   "attachments": {},
   "cell_type": "markdown",
   "id": "5cc7eea3",
   "metadata": {},
   "source": [
    "Cell code: <b></b>"
   ]
  },
  {
   "cell_type": "code",
   "execution_count": null,
   "id": "dad6b2d7",
   "metadata": {},
   "outputs": [],
   "source": [
    "plt.plot(dics['cont'], dics['forw'], 'r', label='Forward', linewidth=2)\n",
    "plt.title(\n",
    "    f'\\nChannel posts Forward chart of @{username}\\n', fontname=\"DejaVu Sans\", size=32)\n",
    "plt.xlabel(\"\\nNumber(id) of posts\")\n",
    "plt.ylabel(\"Count of Forward\")\n",
    "plt.legend()\n",
    "plt.grid(color='gray', linestyle='--', axis='both', linewidth=0.5)\n",
    "fig = plt.gcf()\n",
    "fig.set_size_inches(18.5, 10.5)\n"
   ]
  },
  {
   "attachments": {},
   "cell_type": "markdown",
   "id": "0ad1bc79",
   "metadata": {},
   "source": [
    "Cell code: <b></b>"
   ]
  },
  {
   "cell_type": "code",
   "execution_count": null,
   "id": "04800c16",
   "metadata": {},
   "outputs": [],
   "source": [
    "lf_data = dict(sorted(dics['forw_dict'].items(),\n",
    "               key=lambda item: item[1], reverse=True))\n",
    "for idx, key in enumerate(lf_data):\n",
    "    print('{}: ({:,} forw)\\nhttps://t.me/{}/{}\\n'.format(idx +\n",
    "          1, lf_data[key], username, key))\n",
    "    if idx > 3:\n",
    "        break\n"
   ]
  },
  {
   "attachments": {},
   "cell_type": "markdown",
   "id": "fd03b582",
   "metadata": {},
   "source": [
    "Cell code: <b></b>"
   ]
  },
  {
   "cell_type": "code",
   "execution_count": null,
   "id": "1a0466fe",
   "metadata": {},
   "outputs": [],
   "source": [
    "plt.plot(dics['cont'], dics['repl'], 'g', label='Forward', linewidth=2)\n",
    "plt.title(\n",
    "    f'\\nChannel posts Mentions chart of @{username}\\n', fontname=\"DejaVu Sans\", size=32)\n",
    "plt.xlabel(\"\\nNumber(id) of posts\\nDevelopment by @ZarchiMohammad\")\n",
    "plt.ylabel(\"Count of Forward\")\n",
    "plt.legend()\n",
    "plt.grid(color='gray', linestyle='--', axis='both', linewidth=0.5)\n",
    "fig = plt.gcf()\n",
    "fig.set_size_inches(18.5, 10.5)\n"
   ]
  },
  {
   "attachments": {},
   "cell_type": "markdown",
   "id": "b666ba8a",
   "metadata": {},
   "source": [
    "Cell code: <b></b>"
   ]
  },
  {
   "cell_type": "code",
   "execution_count": null,
   "id": "14c82242",
   "metadata": {},
   "outputs": [],
   "source": [
    "lf_data = dict(sorted(dics['repl_dict'].items(),\n",
    "               key=lambda item: item[1], reverse=True))\n",
    "for idx, key in enumerate(lf_data):\n",
    "    print('{}: ({:,} reply)\\nhttps://t.me/{}/{}\\n'.format(idx +\n",
    "          1, lf_data[key], username, key))\n",
    "    if idx > 5:\n",
    "        break\n"
   ]
  },
  {
   "attachments": {},
   "cell_type": "markdown",
   "id": "cc0508e0",
   "metadata": {},
   "source": [
    "Cell code: <b></b>"
   ]
  },
  {
   "cell_type": "code",
   "execution_count": null,
   "id": "1057d535",
   "metadata": {},
   "outputs": [],
   "source": [
    "day_dict, rte_dict, viw_dict = drv(data)"
   ]
  },
  {
   "attachments": {},
   "cell_type": "markdown",
   "id": "dcee5da3",
   "metadata": {},
   "source": [
    "Cell code: <b></b>"
   ]
  },
  {
   "cell_type": "code",
   "execution_count": null,
   "id": "2b0582a6",
   "metadata": {},
   "outputs": [],
   "source": [
    "# Density of posts per hour of the day\n",
    "xtick_list = [\n",
    "    '|', '|', '|', '1', '|', '|', '|', '2', '|', '|', '|', '3', '|', '|', '|', '4', '|', '|', '|', '5', '|', '|', '|', '6',\n",
    "    '|', '|', '|', '7', '|', '|', '|', '8', '|', '|', '|', '9', '|', '|', '|', '10', '|', '|', '|', '11', '|', '|', '|', '12',\n",
    "    '|', '|', '|', '13', '|', '|', '|', '14', '|', '|', '|', '15', '|', '|', '|', '16', '|', '|', '|', '17', '|', '|', '|', '18',\n",
    "    '|', '|', '|', '19', '|', '|', '|', '20', '|', '|', '|', '21', '|', '|', '|', '22', '|', '|', '|', '23', '|', '|', '|', '24'\n",
    "]\n",
    "n = list(day_dict.values())\n",
    "\n",
    "k = list(range(0, 96))\n",
    "plt.figure(figsize=(25, 15))\n",
    "plt.bar(k, n, color='DarkOliveGreen')\n",
    "plt.grid(color='gray', linestyle='--', axis='y', linewidth=0.8)\n",
    "plt.title(\n",
    "    f'\\nChannel posts count/hours chart of @{username}\\n', fontname=\"DejaVu Sans\", size=32)\n",
    "plt.xlabel('Hours of the days')\n",
    "plt.ylabel('Count of channel post')\n",
    "plt.xticks(k, xtick_list);\n"
   ]
  },
  {
   "attachments": {},
   "cell_type": "markdown",
   "id": "f5ade626",
   "metadata": {},
   "source": [
    "Cell code: <b></b>"
   ]
  },
  {
   "cell_type": "code",
   "execution_count": null,
   "id": "dcaeb1ab",
   "metadata": {},
   "outputs": [],
   "source": [
    "x1, y1, tod = scatter_handel(data)\n",
    "plt.figure(figsize=(15, 15))\n",
    "plt.scatter(x1['g1'], y1['g1'], color='#000000', s=100, marker=\".\")\n",
    "plt.scatter(x1['g2'], y1['g2'], color='#202020', s=100, marker=\".\")\n",
    "plt.scatter(x1['g3'], y1['g3'], color='#404040', s=100, marker=\".\")\n",
    "plt.scatter(tod[0], tod[1], color='#FF0000', s=100, marker=\".\")\n",
    "\n",
    "plt.title(f'\\nScatter points of @{username} Telegram channel\\n',\n",
    "          fontname=\"DejaVu Sans\", size=14)\n",
    "plt.xlabel(\"\\nNumber of year\\n\")\n",
    "plt.ylabel(\"\\nName of month\\n\")\n",
    "plt.grid(color='gray', linestyle='--', linewidth=0.7)\n",
    "x = ['', '2013', '2014', '2015', '2016', '2017', '2018',\n",
    "     '2019', '2020', '2021', '2022', '2023', '2024']\n",
    "y = ['', 'Jan', 'Feb', 'Mar', 'Apr', 'May', 'Jun',\n",
    "     'Jul', 'Aug', 'Sep', 'Oct', 'Nov', 'Dec']\n",
    "\n",
    "plt.xlim([0, 12])\n",
    "plt.ylim([0, 12])\n",
    "\n",
    "plt.xticks(range(len(x)), x)\n",
    "plt.yticks(range(len(y)), y)\n",
    "plt.tick_params(axis=\"y\", which=\"both\", labelleft=True, labelright=True)"
   ]
  }
 ],
 "metadata": {
  "kernelspec": {
   "display_name": "Python 3 (ipykernel)",
   "language": "python",
   "name": "python3"
  },
  "language_info": {
   "codemirror_mode": {
    "name": "ipython",
    "version": 3
   },
   "file_extension": ".py",
   "mimetype": "text/x-python",
   "name": "python",
   "nbconvert_exporter": "python",
   "pygments_lexer": "ipython3",
   "version": "3.10.6"
  }
 },
 "nbformat": 4,
 "nbformat_minor": 5
}
